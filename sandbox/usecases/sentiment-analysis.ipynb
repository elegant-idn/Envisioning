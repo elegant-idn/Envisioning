{
 "cells": [
  {
   "attachments": {},
   "cell_type": "markdown",
   "metadata": {},
   "source": [
    "# Discriminative use case: Sentiment Analysis\n",
    "\n",
    "In this notebook, we will explore how we can perform classical ML task such as sentiment analysis using LLM.\n",
    "\n",
    "### Use case description\n",
    "\n",
    "Sentiment analysis is a common NLP task that involves classifying text into a pre-defined sentiment. For example, with Miyagi, we can classify a user's stock portfolio into a predefined categories based on current market sentiment, which can be determined using a Bing search.\n",
    "\n",
    "> Note - To improve reliability of the model output, set the temperature to 0 and use top_k sampling. This will ensure that the model always generates the same output for the same input."
   ]
  },
  {
   "cell_type": "markdown",
   "metadata": {},
   "source": [
    "#### 1. Import Semantic Kernel dependencies"
   ]
  },
  {
   "cell_type": "code",
   "execution_count": 1,
   "metadata": {
    "dotnet_interactive": {
     "language": "csharp"
    },
    "notebookRunGroups": {
     "groupValue": "1"
    },
    "polyglot_notebook": {
     "kernelName": "csharp"
    }
   },
   "outputs": [
    {
     "data": {
      "text/html": [
       "<div><div></div><div></div><div><strong>Installed Packages</strong><ul><li><span>Microsoft.SemanticKernel, 0.17.230711.7-preview</span></li><li><span>Microsoft.SemanticKernel.Planning.StepwisePlanner, 0.17.230711.7-preview</span></li><li><span>Microsoft.SemanticKernel.Skills.Web, 0.17.230711.7-preview</span></li></ul></div></div>"
      ]
     },
     "metadata": {},
     "output_type": "display_data"
    }
   ],
   "source": [
    "#r \"nuget: Microsoft.SemanticKernel, 0.17.230711.7-preview\"\n",
    "#r \"nuget: Microsoft.SemanticKernel.Planning.StepwisePlanner, 0.17.230711.7-preview\"\n",
    "#r \"nuget: Microsoft.SemanticKernel.Skills.Web, 0.17.230711.7-preview\"\n",
    "\n",
    "#!import config/Settings.cs\n",
    "\n",
    "using Microsoft.SemanticKernel;\n",
    "using Microsoft.SemanticKernel.SemanticFunctions;\n",
    "using Microsoft.SemanticKernel.Planning;\n",
    "using Microsoft.SemanticKernel.Orchestration;\n",
    "using Microsoft.SemanticKernel.Skills.Web;\n",
    "using Microsoft.SemanticKernel.Skills.Web.Bing;"
   ]
  },
  {
   "cell_type": "markdown",
   "metadata": {},
   "source": [
    "#### 2. Initialize kernel"
   ]
  },
  {
   "cell_type": "code",
   "execution_count": 2,
   "metadata": {
    "dotnet_interactive": {
     "language": "csharp"
    },
    "polyglot_notebook": {
     "kernelName": "csharp"
    }
   },
   "outputs": [],
   "source": [
    "var builder = new KernelBuilder();\n",
    "\n",
    "var (_, model, azureEndpoint, apiKey, org) = Settings.LoadFromFile();\n",
    "builder.WithAzureChatCompletionService(model, azureEndpoint, apiKey);\n",
    "\n",
    "IKernel kernel = builder.Build();"
   ]
  },
  {
   "cell_type": "markdown",
   "metadata": {},
   "source": [
    "#### 3. Create a Semantic Function (Prompt Template)"
   ]
  },
  {
   "cell_type": "code",
   "execution_count": 3,
   "metadata": {
    "dotnet_interactive": {
     "language": "csharp"
    },
    "polyglot_notebook": {
     "kernelName": "csharp"
    }
   },
   "outputs": [
    {
     "name": "stdout",
     "output_type": "stream",
     "text": [
      "{\"Name\":\"func382f61d9a12e4fd8abb5d5b12daf684e\",\"SkillName\":\"_GLOBAL_FUNCTIONS_\",\"Description\":\"Generic function, unknown purpose\",\"IsSemantic\":true,\"IsSensitive\":false,\"TrustServiceInstance\":{},\"RequestSettings\":{\"Temperature\":0,\"TopP\":0.5,\"PresencePenalty\":0,\"FrequencyPenalty\":0,\"MaxTokens\":200,\"StopSequences\":[],\"ResultsPerPrompt\":1,\"ChatSystemPrompt\":\"Assistant is a large language model.\",\"TokenSelectionBiases\":{}},\"Parameters\":[{\"Name\":\"input\",\"Description\":\"\",\"DefaultValue\":\"\"}]}\r\n"
     ]
    }
   ],
   "source": [
    "string skPrompt = @\"\n",
    "This is a chat between a classification system and human looking to rate their stock portfolio. Given a portfolio in valid JSON, respond back a sentiment in JSON for the attribute: sentiment. \n",
    "\n",
    "Example:\n",
    "//TODO\n",
    "\n",
    "Rate my portfolio:\n",
    "\n",
    "{{$portfolio}}\n",
    "\n",
    "\n",
    "Question: {{$input}}.\n",
    "\";\n",
    "\n",
    "// create semantic function\n",
    "var textToSQL = kernel.CreateSemanticFunction(skPrompt, maxTokens: 200, temperature: 0, topP: 0.5);\n",
    "Console.WriteLine(textToSQL.ToString());"
   ]
  },
  {
   "cell_type": "markdown",
   "metadata": {},
   "source": [
    "#### 3. Create Context variables"
   ]
  },
  {
   "cell_type": "code",
   "execution_count": 4,
   "metadata": {
    "dotnet_interactive": {
     "language": "csharp"
    },
    "polyglot_notebook": {
     "kernelName": "csharp"
    }
   },
   "outputs": [],
   "source": [
    "var tableInfo = @\"\n",
    "    Users table has columns: user_id, first_name, last_name, and email.\n",
    "    Transactions table has columns: transaction_id, user_id, transaction_amount, transaction_date, and transaction_type.\n",
    "\";\n",
    "\n",
    "// context variables\n",
    "var context = kernel.CreateNewContext();\n",
    "context[\"dialect\"] = \"PostgreSQL\";\n",
    "context[\"tableInfo\"] = tableInfo;"
   ]
  },
  {
   "cell_type": "markdown",
   "metadata": {},
   "source": [
    "#### 4. Generate SQL from natural language"
   ]
  },
  {
   "cell_type": "code",
   "execution_count": 5,
   "metadata": {
    "dotnet_interactive": {
     "language": "csharp"
    },
    "polyglot_notebook": {
     "kernelName": "csharp"
    }
   },
   "outputs": [
    {
     "name": "stdout",
     "output_type": "stream",
     "text": [
      "Question: What was the most expensive purchase made in the last year?\n",
      "\n",
      "SQLQuery: SELECT \n",
      "                t.transaction_id,\n",
      "                t.transaction_date,\n",
      "                t.transaction_amount,\n",
      "                t.transaction_type,\n",
      "                u.first_name,\n",
      "                u.last_name\n",
      "            FROM \n",
      "                transactions t\n",
      "            JOIN \n",
      "                users u ON t.user_id = u.user_id\n",
      "            WHERE \n",
      "                t.transaction_date >= DATE_TRUNC('year', CURRENT_DATE - INTERVAL '1 year')\n",
      "                AND t.transaction_date < DATE_TRUNC('year', CURRENT_DATE)\n",
      "            ORDER BY \n",
      "                t.transaction_amount DESC\n",
      "            LIMIT 1;\n",
      "\n",
      "Answer: The most expensive purchase made in the last year was {transaction_type} for {transaction_amount} by {first_name} {last_name} on {transaction_date}.\r\n"
     ]
    }
   ],
   "source": [
    "context[\"input\"] = \"Most expensive purchase in the last year\";\n",
    "var sql = await textToSQL.InvokeAsync(context);\n",
    "Console.WriteLine(sql);"
   ]
  }
 ],
 "metadata": {
  "kernelspec": {
   "display_name": ".NET (C#)",
   "language": "C#",
   "name": ".net-csharp"
  },
  "language_info": {
   "name": "polyglot-notebook"
  },
  "polyglot_notebook": {
   "kernelInfo": {
    "defaultKernelName": "csharp",
    "items": [
     {
      "aliases": [],
      "name": "csharp"
     }
    ]
   }
  }
 },
 "nbformat": 4,
 "nbformat_minor": 2
}
